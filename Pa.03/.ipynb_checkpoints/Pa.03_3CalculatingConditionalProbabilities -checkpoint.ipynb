{
 "cells": [
  {
   "cell_type": "markdown",
   "id": "7f8ddc1f",
   "metadata": {},
   "source": [
    "## 3. Calculating conditional probabilities "
   ]
  },
  {
   "cell_type": "code",
   "execution_count": 22,
   "id": "e272bac1",
   "metadata": {},
   "outputs": [],
   "source": [
    "def positive_rate(cm):\n",
    "    return {'title': 'Positive rate', \n",
    "            'val': (cm[1][0] + cm[1][1])}\n",
    "\n",
    "def true_positive_rate(cm):\n",
    "    return {'title': 'True positive rate', \n",
    "            'val': cm[1][1] / (cm[0][1] + cm[1][1])}\n",
    "\n",
    "def false_positive_rate(cm):\n",
    "    return {'title': 'False positive rate', \n",
    "            'val': cm[1][0] / (cm[0][0] + cm[1][0])}\n",
    "\n",
    "def true_negative_rate(cm):\n",
    "    return {'title': 'True negative rate (aka specificity)', \n",
    "            'val': cm[0][0] / (cm[0][0] + cm[1][0])}\n",
    "\n",
    "def false_negative_rate(cm):\n",
    "    return {'title': 'False negative rate', \n",
    "            'val': cm[0][1] / (cm[0][1] + cm[1][1])}\n",
    "\n",
    "def positive_predictive_value(cm):\n",
    "    return {'title': 'Positive predictive Value (aka precision)', \n",
    "            'val': cm[1][1] / (cm[1][0] + cm[1][1])}\n",
    "\n",
    "def negative_predictive_value(cm):\n",
    "    return {'title': 'Negative predictive Value', \n",
    "            'val': cm[0][0] / (cm[0][0] + cm[0][1])}\n",
    "\n",
    "def false_discovery_rate(cm):\n",
    "    return {'title': 'False discovery rate', \n",
    "            'val': cm[1][0] / (cm[1][0] + cm[1][1])}\n",
    "\n",
    "def false_omission_rate(cm):\n",
    "    return {'title': 'False omission rate', \n",
    "            'val': cm[0][1] / (cm[0][0] + cm[0][1])}\n",
    "\n",
    "def print_measuring_classifications(cm):\n",
    "    print(positive_rate(cm)['title'], positive_rate(cm)['val'])\n",
    "    print(true_positive_rate(cm)['title'], true_positive_rate(cm)['val'])\n",
    "    print(false_positive_rate(cm)['title'], false_positive_rate(cm)['val'])\n",
    "    print(true_negative_rate(cm)['title'], true_negative_rate(cm)['val'])\n",
    "    print(false_negative_rate(cm)['title'], false_negative_rate(cm)['val'])\n",
    "    print(positive_predictive_value(cm)['title'], positive_predictive_value(cm)['val'])\n",
    "    print(negative_predictive_value(cm)['title'], negative_predictive_value(cm)['val'])\n",
    "    print(false_discovery_rate(cm)['title'], false_discovery_rate(cm)['val'])\n",
    "    print(false_omission_rate(cm)['title'], false_omission_rate(cm)['val'])"
   ]
  },
  {
   "cell_type": "code",
   "execution_count": 23,
   "id": "bc924f62",
   "metadata": {},
   "outputs": [
    {
     "name": "stdout",
     "output_type": "stream",
     "text": [
      "Positive rate 0.5\n",
      "True positive rate 0.5714285714285715\n",
      "False positive rate 0.3333333333333333\n",
      "True negative rate (aka specificity) 0.6666666666666666\n",
      "False negative rate 0.4285714285714286\n",
      "Positive predictive Value (aka precision) 0.8\n",
      "Negative predictive Value 0.4\n",
      "False discovery rate 0.2\n",
      "False omission rate 0.6\n"
     ]
    }
   ],
   "source": [
    "confusion_matrix = [[.2, .3], [.1, .4]]\n",
    "print_measuring_classifications(confusion_matrix)\n"
   ]
  },
  {
   "cell_type": "code",
   "execution_count": null,
   "id": "76098019",
   "metadata": {},
   "outputs": [],
   "source": []
  }
 ],
 "metadata": {
  "kernelspec": {
   "display_name": "Python 3 (ipykernel)",
   "language": "python",
   "name": "python3"
  },
  "language_info": {
   "codemirror_mode": {
    "name": "ipython",
    "version": 3
   },
   "file_extension": ".py",
   "mimetype": "text/x-python",
   "name": "python",
   "nbconvert_exporter": "python",
   "pygments_lexer": "ipython3",
   "version": "3.9.7"
  }
 },
 "nbformat": 4,
 "nbformat_minor": 5
}
