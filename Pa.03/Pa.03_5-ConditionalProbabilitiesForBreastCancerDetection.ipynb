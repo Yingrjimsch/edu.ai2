{
 "cells": [
  {
   "cell_type": "markdown",
   "id": "4fb715a9",
   "metadata": {},
   "source": [
    "## 5 Conditional probabilities for breast cancer detection"
   ]
  },
  {
   "cell_type": "code",
   "execution_count": 6,
   "id": "b618a862",
   "metadata": {},
   "outputs": [],
   "source": [
    "import numpy as np"
   ]
  },
  {
   "cell_type": "markdown",
   "id": "5bfc395b",
   "metadata": {},
   "source": [
    "| 2D mammo<br>graphy | Y = 0 | Y = 1 |\n",
    "| - | - | - |\n",
    "| **Y_hat = 0** | 89,7% | 2,4% |\n",
    "| **Y_hat = 1** | 0.3% | 7,6% |"
   ]
  },
  {
   "cell_type": "code",
   "execution_count": 18,
   "id": "833891bc",
   "metadata": {},
   "outputs": [
    {
     "name": "stdout",
     "output_type": "stream",
     "text": [
      "2D Mammography:\n",
      "Among the patients with breast cancer, what is the share of those who were correctly diagnosed with breast cancer? - True Positive Rate 7,6% or 76.0 out of 1000 people\n",
      "Among patients diagnosed with breast cancer, what is the share of those who actually had breast cancer? - Positive Prediction Value 96% or 76 out of 79 people\n",
      "Among patients with a negative test, what is the share of those who should have received a positive test because they had breast cancer? - False Omission Rate 2.6% or 24 out of 921 people\n",
      "Among patients with a negative test, what share received the correct result? - Negative Predic 97.4% or 897 out of 921 people\n"
     ]
    }
   ],
   "source": [
    "print('2D Mammography:')\n",
    "print('Among the patients with breast cancer, what is the share of those who were correctly diagnosed with breast cancer? - True Positive Rate',\n",
    "     '7,6% or', 1000 * .076, 'out of 1000 people')\n",
    "print('Among patients diagnosed with breast cancer, what is the share of those who actually had breast cancer? - Positive Prediction Value',\n",
    "     '96% or', '76 out of 79 people')\n",
    "print('Among patients with a negative test, what is the share of those who should have received a positive test because they had breast cancer? - False Omission Rate',\n",
    "     '2.6% or', '24 out of 921 people')\n",
    "print('Among patients with a negative test, what share received the correct result? - Negative Predic',\n",
    "     '97.4% or', '897 out of 921 people')"
   ]
  },
  {
   "cell_type": "markdown",
   "id": "6fc00f47",
   "metadata": {},
   "source": [
    "| 2D+3D mammo<br>graphy | Y = 0 | Y = 1 |\n",
    "| - | - | - |\n",
    "| **Y_hat = 0** | 898 | 19 |\n",
    "| **Y_hat = 1** | 2 | 81 |"
   ]
  },
  {
   "cell_type": "code",
   "execution_count": 17,
   "id": "dca9a8af",
   "metadata": {},
   "outputs": [
    {
     "name": "stdout",
     "output_type": "stream",
     "text": [
      "2D + 3D Mammography:\n",
      "Among the patients with a negative test, what share received the wrong diagnosis? - False Omission Rate 0.020719738276990186 % or 19 out of 917 people\n",
      "Among patients who did not have breast cancer, what share was incorrectly diagnosed with breast cancer?  - False Positive Rate 0.0022222222222222222 % or 2 out of 900 people\n",
      "Among patients with a positive result, what share was actually breast-cancer-free? - False Discovery Rate 0.024096385542168676 % or 2 out of 83 people\n"
     ]
    }
   ],
   "source": [
    "print('2D + 3D Mammography:')\n",
    "print('Among the patients with a negative test, what share received the wrong diagnosis? - False Omission Rate',\n",
    "     19 / 917, '% or 19 out of 917 people')\n",
    "print('Among patients who did not have breast cancer, what share was incorrectly diagnosed with breast cancer?  - False Positive Rate',\n",
    "     2 / 900, '% or 2 out of 900 people')\n",
    "print('Among patients with a positive result, what share was actually breast-cancer-free? - False Discovery Rate',\n",
    "     2 / 83, '% or 2 out of 83 people')"
   ]
  },
  {
   "cell_type": "code",
   "execution_count": null,
   "id": "68e4ba74",
   "metadata": {},
   "outputs": [],
   "source": []
  }
 ],
 "metadata": {
  "kernelspec": {
   "display_name": "Python 3 (ipykernel)",
   "language": "python",
   "name": "python3"
  },
  "language_info": {
   "codemirror_mode": {
    "name": "ipython",
    "version": 3
   },
   "file_extension": ".py",
   "mimetype": "text/x-python",
   "name": "python",
   "nbconvert_exporter": "python",
   "pygments_lexer": "ipython3",
   "version": "3.9.7"
  }
 },
 "nbformat": 4,
 "nbformat_minor": 5
}
