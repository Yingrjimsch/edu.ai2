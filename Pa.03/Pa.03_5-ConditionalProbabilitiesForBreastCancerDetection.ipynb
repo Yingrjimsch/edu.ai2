{
 "cells": [
  {
   "cell_type": "markdown",
   "id": "830e130c",
   "metadata": {},
   "source": [
    "## 5 Conditional probabilities for breast cancer detection"
   ]
  },
  {
   "cell_type": "code",
   "execution_count": 6,
   "id": "68db4dab",
   "metadata": {},
   "outputs": [],
   "source": [
    "import numpy as np"
   ]
  },
  {
   "cell_type": "markdown",
   "id": "beb23b74",
   "metadata": {},
   "source": [
    "| 2D mammo<br>graphy | Y = 0 | Y = 1 |\n",
    "| - | - | - |\n",
    "| **Y_hat = 0** | 89,7% | 2,4% |\n",
    "| **Y_hat = 1** | 0.3% | 7,6% |"
   ]
  },
  {
   "cell_type": "code",
   "execution_count": 19,
   "id": "b0228ece",
   "metadata": {},
   "outputs": [
    {
     "name": "stdout",
     "output_type": "stream",
     "text": [
      "2D Mammography:\n",
      "Among the patients with breast cancer, what is the share of those who were correctly diagnosed with breast cancer? - 7,6% or 76.0 out of 1000 people\n",
      "Among patients diagnosed with breast cancer, what is the share of those who actually had breast cancer? - 10% or 100.0 out of 1000 people\n",
      "Among patients with a negative test, what is the share of those who should have received a positive test because they had breast cancer? - 2.4% or 24.0 out of 1000 people\n",
      "Among patients with a negative test, what share received the correct result? - 89,7% or 897.0 out of 1000 people\n"
     ]
    }
   ],
   "source": [
    "print('2D Mammography:')\n",
    "print('Among the patients with breast cancer, what is the share of those who were correctly diagnosed with breast cancer? -',\n",
    "     '7,6% or', 1000 * .076, 'out of 1000 people')\n",
    "print('Among patients diagnosed with breast cancer, what is the share of those who actually had breast cancer? -',\n",
    "     '10% or', 1000 * .1, 'out of 1000 people')\n",
    "print('Among patients with a negative test, what is the share of those who should have received a positive test because they had breast cancer? -',\n",
    "     '2.4% or', 1000 * .024, 'out of 1000 people')\n",
    "print('Among patients with a negative test, what share received the correct result? -',\n",
    "     '89,7% or', 1000 * .897, 'out of 1000 people')"
   ]
  },
  {
   "cell_type": "markdown",
   "id": "3c006f5f",
   "metadata": {},
   "source": [
    "| 2D+3D mammo<br>graphy | Y = 0 | Y = 1 |\n",
    "| - | - | - |\n",
    "| **Y_hat = 0** | 900 | 17 |\n",
    "| **Y_hat = 1** | 2 | 81 |"
   ]
  },
  {
   "cell_type": "code",
   "execution_count": 21,
   "id": "c57be268",
   "metadata": {},
   "outputs": [
    {
     "name": "stdout",
     "output_type": "stream",
     "text": [
      "2D + 3D Mammography:\n",
      "Among the patients with a negative test, what share received the wrong diagnosis? - 0.017 % or 17 out of 1000 people\n",
      "Among patients who did not have breast cancer, what share was incorrectly diagnosed with breast cancer?  - 0.002 % or 2 out of 1000 people\n",
      "Among patients with a positive result, what share was actually breast-cancer-free? - 0.017 % or 17 out of 1000 people\n"
     ]
    }
   ],
   "source": [
    "print('2D + 3D Mammography:')\n",
    "print('Among the patients with a negative test, what share received the wrong diagnosis? -',\n",
    "     17 / 1000, '% or 17 out of 1000 people')\n",
    "print('Among patients who did not have breast cancer, what share was incorrectly diagnosed with breast cancer?  -',\n",
    "     2 / 1000, '% or 2 out of 1000 people')\n",
    "print('Among patients with a positive result, what share was actually breast-cancer-free? -',\n",
    "     17 / 1000, '% or 17 out of 1000 people')"
   ]
  }
 ],
 "metadata": {
  "kernelspec": {
   "display_name": "Python 3 (ipykernel)",
   "language": "python",
   "name": "python3"
  },
  "language_info": {
   "codemirror_mode": {
    "name": "ipython",
    "version": 3
   },
   "file_extension": ".py",
   "mimetype": "text/x-python",
   "name": "python",
   "nbconvert_exporter": "python",
   "pygments_lexer": "ipython3",
   "version": "3.9.7"
  }
 },
 "nbformat": 4,
 "nbformat_minor": 5
}
