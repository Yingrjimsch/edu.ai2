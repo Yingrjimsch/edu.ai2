{
 "cells": [
  {
   "cell_type": "markdown",
   "id": "2c87cef4",
   "metadata": {},
   "source": [
    "## Exercise 4 Properties of predictors"
   ]
  },
  {
   "cell_type": "markdown",
   "id": "a147b57b",
   "metadata": {},
   "source": [
    "**(a)**\n",
    "Accuracy for different Types are:\n",
    "* A = 0.8\n",
    "* B = 1.0\n",
    "* C = 0.7\n",
    "\n",
    "Mean is (0.8 + 1 + 0.7) / 3 = 0.8333"
   ]
  },
  {
   "cell_type": "markdown",
   "id": "74d22c4b",
   "metadata": {},
   "source": [
    "**(b)**\n",
    " For each individual, the value r corresponds to the true probability: r = p\n",
    "\n",
    "| Type | r=0 | r=0.5 | r=1 |\n",
    "| - | - | - | - | \n",
    "| A | 100 | 0 | 0 |\n",
    "| B | 0 | 100 | 0 |\n",
    "| C | 0 | 0 | 100 |"
   ]
  },
  {
   "cell_type": "markdown",
   "id": "d0afc79a",
   "metadata": {},
   "source": [
    "**(c)**\n",
    "\n",
    "Assumption for p=0 &rarr; 0 individuals with Y=1 (100*0)\n",
    "\n",
    "$$N(r=0) = 40$$\n",
    "$$N1(r=0) = 0$$\n",
    "$$N1(r=0)/N(r=0)=0$$\n",
    "\n",
    "\n",
    "Assumption for p=0.5 &rarr; 50 individuals with Y=1 (100*0.5)\n",
    "\n",
    "$$N(r=.5) = 220$$\n",
    "$$N1(r=.5) = 110$$\n",
    "$$N1(r=.5)/N(r=.5)=0.5$$\n",
    "\n",
    "\n",
    "Assumption for p=1 &rarr; 100 individuals with Y=1 (100*1)\n",
    "\n",
    "$$N(r=1) = 40$$\n",
    "$$N1(r=1) = 40$$\n",
    "$$N1(r=1)/N(r=1)=1$$\n",
    "\n",
    "\n",
    "\n",
    "This means P3 is calibrated because all the N(r)'s are equal to r. "
   ]
  },
  {
   "cell_type": "markdown",
   "id": "10e8361a",
   "metadata": {},
   "source": [
    "**(d)**\n",
    "\n",
    "Assume we have 100 Students. Everyone of these students has a different level of intelligence. Let's say in SEP fifty percent of students pass and fifty percent fail. This means if we assign a probability of 0.5 we could think that we have a perfect probability, which is not the case because this would imply that everyone has the same probability of passing the SEP.\n",
    "\n",
    "\n",
    "**Therefore the score and the individual probability are very different, although they can be quickly mixed up!**"
   ]
  },
  {
   "cell_type": "code",
   "execution_count": null,
   "id": "9e7faa45",
   "metadata": {},
   "outputs": [],
   "source": []
  }
 ],
 "metadata": {
  "kernelspec": {
   "display_name": "Python 3 (ipykernel)",
   "language": "python",
   "name": "python3"
  },
  "language_info": {
   "codemirror_mode": {
    "name": "ipython",
    "version": 3
   },
   "file_extension": ".py",
   "mimetype": "text/x-python",
   "name": "python",
   "nbconvert_exporter": "python",
   "pygments_lexer": "ipython3",
   "version": "3.9.7"
  }
 },
 "nbformat": 4,
 "nbformat_minor": 5
}
