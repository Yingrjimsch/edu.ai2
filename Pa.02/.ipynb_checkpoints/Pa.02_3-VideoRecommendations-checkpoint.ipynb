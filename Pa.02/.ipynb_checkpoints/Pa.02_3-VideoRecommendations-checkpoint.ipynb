{
 "cells": [
  {
   "cell_type": "markdown",
   "id": "523dddd0",
   "metadata": {},
   "source": [
    "## Exercise 3 Video recommendations"
   ]
  },
  {
   "cell_type": "markdown",
   "id": "75659cc9",
   "metadata": {},
   "source": [
    "**(a)**\n",
    "\n",
    "- D = 1 is watching a movie\n",
    "- D = 0 is reading a book\n",
    "- Y = 1 is enjoying the media\n",
    "- Y = 0 is not enjoying it"
   ]
  },
  {
   "cell_type": "markdown",
   "id": "6c16d281",
   "metadata": {},
   "source": [
    "| |Y=0 | Y=1 |\n",
    "| - | - | - | \n",
    "| D=0 | 0.3 | 0.3 |\n",
    "| D=1 | -1 | 1 |"
   ]
  },
  {
   "cell_type": "markdown",
   "id": "c71f9a5d",
   "metadata": {},
   "source": [
    "**(b)**\n",
    "\n",
    "for D = 0\n",
    "E(U) = (1 - p) * 0.3 + p * 0.3\n",
    "= 0.3 - 0.3p + 0.3p\n",
    "= 0.3\n",
    "\n",
    "for D = 1\n",
    "E(U) = (1 - p) * (-1) + p * 1\n",
    "= -1 + p + p\n",
    "= 2p - 1\n",
    "\n",
    "when is E(U) with D = 1 > E(U) with D = 0\n",
    "2p - 1 > 0.3\n",
    "2p > 1.3\n",
    "p > 0.65"
   ]
  },
  {
   "cell_type": "markdown",
   "id": "dc854074",
   "metadata": {},
   "source": [
    "**(c)**\n",
    "\n",
    "The average utility for reading a book is $0.3$\n",
    "\n",
    "The average utility for watching a movie is\n",
    "$$P = \\{0, 0.1, 0.2,...,0.9,1\\}$$\n",
    "\n",
    "\n",
    "$$\\frac{\\sum_{p\\epsilon P}^{} 2p - 1}{11}$$\n",
    "\n",
    "\n",
    "$$=0.0$$"
   ]
  },
  {
   "cell_type": "code",
   "execution_count": 50,
   "id": "e794f649",
   "metadata": {},
   "outputs": [
    {
     "name": "stdout",
     "output_type": "stream",
     "text": [
      "Average Utility per night: 0.15\n"
     ]
    }
   ],
   "source": [
    "import numpy as np\n",
    "utility_book = np.repeat(.3, 11)\n",
    "def calc_avg_utility(p):\n",
    "    return np.concatenate((p * 2 - 1, utility_book)).sum() / (len(utility_book) + len(p))\n",
    "print('Average Utility per night:', calc_avg_utility(p))"
   ]
  },
  {
   "cell_type": "markdown",
   "id": "c1fdc4d4",
   "metadata": {},
   "source": [
    "**(d)**"
   ]
  },
  {
   "cell_type": "code",
   "execution_count": 49,
   "id": "6fdca6a9",
   "metadata": {},
   "outputs": [
    {
     "name": "stdout",
     "output_type": "stream",
     "text": [
      "Average Utility per night biased 0.23636363636363633\n"
     ]
    }
   ],
   "source": [
    "import numpy as np\n",
    "p_hat = np.arange(0., 1.1, .1) + .1\n",
    "p_hat[9] = .95\n",
    "p_hat[10] = 1\n",
    "print('Average Utility per night biased', calc_avg_utility(p_hat))"
   ]
  },
  {
   "cell_type": "code",
   "execution_count": null,
   "id": "3be10ace",
   "metadata": {},
   "outputs": [],
   "source": []
  }
 ],
 "metadata": {
  "kernelspec": {
   "display_name": "Python 3 (ipykernel)",
   "language": "python",
   "name": "python3"
  },
  "language_info": {
   "codemirror_mode": {
    "name": "ipython",
    "version": 3
   },
   "file_extension": ".py",
   "mimetype": "text/x-python",
   "name": "python",
   "nbconvert_exporter": "python",
   "pygments_lexer": "ipython3",
   "version": "3.9.7"
  }
 },
 "nbformat": 4,
 "nbformat_minor": 5
}
