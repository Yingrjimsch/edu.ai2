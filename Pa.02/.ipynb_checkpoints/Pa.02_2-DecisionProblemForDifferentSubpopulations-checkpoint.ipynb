{
 "cells": [
  {
   "cell_type": "markdown",
   "metadata": {
    "id": "gxWkrO1Nr9XD"
   },
   "source": [
    "# Decision problem for different subpopulations"
   ]
  },
  {
   "cell_type": "markdown",
   "metadata": {
    "id": "G7RksxpBtb2Z"
   },
   "source": [
    "## Brief description\n",
    "\n",
    "The bank also collects some personal data about their applicants, such as their gender. We will assume a binary gender collection where g=0 represents women and g=1 represents men. The bank now wants to test which effect different decision rules have on the loan approval rate of women and men."
   ]
  },
  {
   "cell_type": "markdown",
   "metadata": {
    "id": "eR0Rchx4sRII"
   },
   "source": [
    "## Questions\n",
    "\n",
    "All questions require a dataset. This dataset is saved in the same folder as this notebook. You can access it with `pandas.read_csv()`.\n",
    "\n",
    "**(a)\tAssume a threshold rule of p > 0.7, so only those with a repayment probability of above 0.7 receive a loan. What share of women receives a loan? What share of men receives a loan?**"
   ]
  },
  {
   "cell_type": "code",
   "execution_count": 1,
   "metadata": {
    "executionInfo": {
     "elapsed": 658,
     "status": "ok",
     "timestamp": 1677712568007,
     "user": {
      "displayName": "Corinna Hertweck",
      "userId": "07442924978275284010"
     },
     "user_tz": -60
    },
    "id": "QDgPLCZKtrpo"
   },
   "outputs": [],
   "source": [
    "import pandas as pd"
   ]
  },
  {
   "cell_type": "markdown",
   "metadata": {
    "id": "H7bvUZ2cyqWo"
   },
   "source": [
    "Let us first import the dataset. For this, you can click on the folder icon on the left and then select the icon to upload a dataset. Upload the dataset 'loan_applicants.csv', so that your Google Colab Notebook has access to it."
   ]
  },
  {
   "cell_type": "markdown",
   "metadata": {
    "id": "LJ-q9tJQd5Fc"
   },
   "source": [
    "![Google Colab 2 screenshot.PNG](data:image/png;base64,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)"
   ]
  },
  {
   "cell_type": "markdown",
   "metadata": {
    "id": "miwir0vsdTsb"
   },
   "source": [
    "Then use pandas to read the csv file."
   ]
  },
  {
   "cell_type": "code",
   "execution_count": 2,
   "metadata": {
    "colab": {
     "base_uri": "https://localhost:8080/",
     "height": 423
    },
    "executionInfo": {
     "elapsed": 921,
     "status": "ok",
     "timestamp": 1677712680856,
     "user": {
      "displayName": "Corinna Hertweck",
      "userId": "07442924978275284010"
     },
     "user_tz": -60
    },
    "id": "KeGFU0O6tto_",
    "outputId": "65ce4e49-337d-45ab-8d8d-e239a63a6bdf"
   },
   "outputs": [
    {
     "data": {
      "text/html": [
       "<div>\n",
       "<style scoped>\n",
       "    .dataframe tbody tr th:only-of-type {\n",
       "        vertical-align: middle;\n",
       "    }\n",
       "\n",
       "    .dataframe tbody tr th {\n",
       "        vertical-align: top;\n",
       "    }\n",
       "\n",
       "    .dataframe thead th {\n",
       "        text-align: right;\n",
       "    }\n",
       "</style>\n",
       "<table border=\"1\" class=\"dataframe\">\n",
       "  <thead>\n",
       "    <tr style=\"text-align: right;\">\n",
       "      <th></th>\n",
       "      <th>p</th>\n",
       "      <th>g</th>\n",
       "    </tr>\n",
       "  </thead>\n",
       "  <tbody>\n",
       "    <tr>\n",
       "      <th>0</th>\n",
       "      <td>0.343231</td>\n",
       "      <td>0</td>\n",
       "    </tr>\n",
       "    <tr>\n",
       "      <th>1</th>\n",
       "      <td>0.730046</td>\n",
       "      <td>0</td>\n",
       "    </tr>\n",
       "    <tr>\n",
       "      <th>2</th>\n",
       "      <td>0.526888</td>\n",
       "      <td>0</td>\n",
       "    </tr>\n",
       "    <tr>\n",
       "      <th>3</th>\n",
       "      <td>0.454292</td>\n",
       "      <td>0</td>\n",
       "    </tr>\n",
       "    <tr>\n",
       "      <th>4</th>\n",
       "      <td>0.213089</td>\n",
       "      <td>0</td>\n",
       "    </tr>\n",
       "    <tr>\n",
       "      <th>...</th>\n",
       "      <td>...</td>\n",
       "      <td>...</td>\n",
       "    </tr>\n",
       "    <tr>\n",
       "      <th>19995</th>\n",
       "      <td>0.710064</td>\n",
       "      <td>1</td>\n",
       "    </tr>\n",
       "    <tr>\n",
       "      <th>19996</th>\n",
       "      <td>0.748065</td>\n",
       "      <td>1</td>\n",
       "    </tr>\n",
       "    <tr>\n",
       "      <th>19997</th>\n",
       "      <td>0.812917</td>\n",
       "      <td>1</td>\n",
       "    </tr>\n",
       "    <tr>\n",
       "      <th>19998</th>\n",
       "      <td>0.448689</td>\n",
       "      <td>1</td>\n",
       "    </tr>\n",
       "    <tr>\n",
       "      <th>19999</th>\n",
       "      <td>0.346002</td>\n",
       "      <td>1</td>\n",
       "    </tr>\n",
       "  </tbody>\n",
       "</table>\n",
       "<p>20000 rows × 2 columns</p>\n",
       "</div>"
      ],
      "text/plain": [
       "              p  g\n",
       "0      0.343231  0\n",
       "1      0.730046  0\n",
       "2      0.526888  0\n",
       "3      0.454292  0\n",
       "4      0.213089  0\n",
       "...         ... ..\n",
       "19995  0.710064  1\n",
       "19996  0.748065  1\n",
       "19997  0.812917  1\n",
       "19998  0.448689  1\n",
       "19999  0.346002  1\n",
       "\n",
       "[20000 rows x 2 columns]"
      ]
     },
     "execution_count": 2,
     "metadata": {},
     "output_type": "execute_result"
    }
   ],
   "source": [
    "loan_applicants = pd.read_csv('loan_applicants_gender.csv')\n",
    "loan_applicants"
   ]
  },
  {
   "cell_type": "markdown",
   "metadata": {
    "id": "9i_Cq69WSlhV"
   },
   "source": [
    "Now it's time to add your own code."
   ]
  },
  {
   "cell_type": "code",
   "execution_count": 14,
   "metadata": {
    "id": "dyC3laoOeCVM"
   },
   "outputs": [
    {
     "name": "stdout",
     "output_type": "stream",
     "text": [
      "14.84 percent or 1484.0 out of 10000 Men and 6.65 percent or 665.0 out of 10000 Woman\n"
     ]
    }
   ],
   "source": [
    "def get_share_gender_specific(p):\n",
    "    loan_applications_over_threshold = loan_applicants[loan_applicants['p'] > p]\n",
    "    return len(loan_applications_over_threshold[loan_applications_over_threshold['g'] == 1]) / len(loan_applicants[loan_applicants['g'] == 1]), len(loan_applications_over_threshold[loan_applications_over_threshold['g'] == 0]) / len(loan_applicants[loan_applicants['g'] == 0])\n",
    "res = get_share_gender_specific(0.7)\n",
    "print(res[0] * 100, 'percent or', \n",
    "      res[0] * len(loan_applicants[loan_applicants['g'] == 1]),\n",
    "      'out of', \n",
    "      len(loan_applicants[loan_applicants['g'] == 1]), \n",
    "      'Men and', \n",
    "      res[1] * 100, \n",
    "      'percent or', \n",
    "      res[1] * len(loan_applicants[loan_applicants['g'] == 0]), \n",
    "      'out of', \n",
    "      len(loan_applicants[loan_applicants['g'] == 0]), \n",
    "      'Woman')"
   ]
  },
  {
   "cell_type": "markdown",
   "metadata": {
    "id": "GYdItrN7z-XQ"
   },
   "source": [
    "**(b) Assume a threshold rule of p > 0.8. What share of women receives a loan? What share of men receives a loan?**"
   ]
  },
  {
   "cell_type": "code",
   "execution_count": 15,
   "metadata": {
    "id": "jwgPeS8ZeEDk"
   },
   "outputs": [
    {
     "name": "stdout",
     "output_type": "stream",
     "text": [
      "5.9799999999999995 percent or 598.0 out of 10000 Men and 1.92 percent or 191.99999999999997 out of 10000 Woman\n"
     ]
    }
   ],
   "source": [
    "def get_share_gender_specific(p):\n",
    "    loan_applications_over_threshold = loan_applicants[loan_applicants['p'] > p]\n",
    "    return len(loan_applications_over_threshold[loan_applications_over_threshold['g'] == 1]) / len(loan_applicants[loan_applicants['g'] == 1]), len(loan_applications_over_threshold[loan_applications_over_threshold['g'] == 0]) / len(loan_applicants[loan_applicants['g'] == 0])\n",
    "res = get_share_gender_specific(0.8)\n",
    "print(res[0] * 100, 'percent or', \n",
    "      res[0] * len(loan_applicants[loan_applicants['g'] == 1]),\n",
    "      'out of', \n",
    "      len(loan_applicants[loan_applicants['g'] == 1]), \n",
    "      'Men and', \n",
    "      res[1] * 100, \n",
    "      'percent or', \n",
    "      res[1] * len(loan_applicants[loan_applicants['g'] == 0]), \n",
    "      'out of', \n",
    "      len(loan_applicants[loan_applicants['g'] == 0]), \n",
    "      'Woman')"
   ]
  },
  {
   "cell_type": "markdown",
   "metadata": {
    "id": "Yw-ZTu9r0FW2"
   },
   "source": [
    "**(c) In both (a) and (b), there is a difference of the acceptance rates of men vs. women. What is the cause of this difference in acceptance rate?**"
   ]
  },
  {
   "cell_type": "markdown",
   "metadata": {
    "id": "wjpdbhMdeJpU"
   },
   "source": [
    "It is crucial what criteria, regardless of gender, are used to decide whether someone gets a loan or not.\n",
    "\n",
    "Possible deciding criteria:\n",
    "* **1**: income\n",
    "* **2**: workload\n",
    "* **3**: gender based bias\n",
    "\n",
    "So why are women less likely to receive credit?\n",
    "* **Cause 1**: Women tend to have a lower income\n",
    "* **Cause 2**: Women are more often in part-time jobs (childcare)\n",
    "* **Cause 3**: Because of gender based bias in banking (male dominated sector or historical bias)"
   ]
  },
  {
   "cell_type": "markdown",
   "metadata": {
    "id": "jVxd6pghVHOI"
   },
   "source": [
    "**(d) Generalize your insight: Under which circumstances would the share of accepted applicants be identical if the bank applied the same rule p > p_0 for an arbitrary p_0?**"
   ]
  },
  {
   "cell_type": "markdown",
   "metadata": {
    "id": "O6sFvr_ieIVr"
   },
   "source": [
    "Three possibility:\n",
    "* $𝑝_0=0$ (everyone accepted)\n",
    "* different $𝑝_0$ for women and men\n",
    "* optimization of decision criterias (trained features) "
   ]
  },
  {
   "cell_type": "markdown",
   "metadata": {
    "id": "drCgLxNGt9rt"
   },
   "source": [
    "**(e) Assume again a threshold rule of p > 0.7. With respect to fairness, one might argue that a difference in acceptance rates is not a problem, for example if one has reason to believe that women are more financially responsible than men and only apply if they have a high probability of repaying their loan. In such a case, a higher acceptance rate of women would be natural. One could then restrict the analysis to those individuals who actually repay their loan. Of course, this is not known at the time of decision making. However, if the true probability is known as we assume here, we still can do the evaluation. One could argue that the decision rule is fair if women who do repay their loan have the same acceptance rate as men who do pay back. \n",
    "Use the provided data set and calculate: What share of the women who actually repay their loan is accepted? What share of men who would be able to repay their loan actually receives a loan?**\n",
    "\n",
    "**(Hint: for each individual, the repayment probability is given.  For each individual i, you can define a random variable Y_i which is Y_i=1 for a repaying individual, and Y_i=0 else. The expectation value of Y_i is a number between 0 and 1. The expected number of repaying customers is the sum over all these individual expectation values.)**"
   ]
  },
  {
   "cell_type": "code",
   "execution_count": 17,
   "metadata": {
    "id": "3uEUKzTxeM8j"
   },
   "outputs": [],
   "source": [
    "import numpy as np\n",
    "loan_applicants['Y'] = np.random.choice([0,1], size=len(loan_applicants))"
   ]
  },
  {
   "cell_type": "code",
   "execution_count": 43,
   "metadata": {},
   "outputs": [],
   "source": [
    "def calc_share_of_gender(threshold, g, Y):\n",
    "    loan_applicants_over_threshold = loan_applicants[loan_applicants['p'] > threshold]\n",
    "    y_1 = loan_applicants.loc[(loan_applicants['g'] == g) & (loan_applicants['Y'] == Y), 'g'].count()\n",
    "    y_1_accepted = loan_applicants_over_threshold.loc[(loan_applicants_over_threshold['g'] == g) \n",
    "                                                    & (loan_applicants_over_threshold['Y'] == Y), 'g'].count()\n",
    "    return y_1_accepted, np.round(y_1_accepted / y_1 * 100, 2), y_1\n",
    "    "
   ]
  },
  {
   "cell_type": "code",
   "execution_count": 46,
   "metadata": {},
   "outputs": [
    {
     "name": "stdout",
     "output_type": "stream",
     "text": [
      "304 or 6.25 percent Woman out of 4863 who actually repay are accepted\n"
     ]
    }
   ],
   "source": [
    "res = calc_share_of_gender(.7, 0, 1)\n",
    "print(res[0], 'or', res[1], 'percent Woman out of', res[2], 'who actually repay are accepted')"
   ]
  },
  {
   "cell_type": "code",
   "execution_count": 45,
   "metadata": {},
   "outputs": [
    {
     "name": "stdout",
     "output_type": "stream",
     "text": [
      "747 or 14.91 percent Men out of 5009 who actually repay are accepted\n"
     ]
    }
   ],
   "source": [
    "res = calc_share_of_gender(.7, 1, 1)\n",
    "print(res[0], 'or', res[1], 'percent Men out of', res[2], 'who actually repay are accepted')"
   ]
  },
  {
   "cell_type": "markdown",
   "metadata": {
    "id": "rKPZGsBDfLVY"
   },
   "source": [
    "**(f) Assume again a threshold rule of p > 0.8. What share of women who would be able to repay their loan actually receives a loan? What share of men who would be able to repay their loan actually receives a loan?**"
   ]
  },
  {
   "cell_type": "code",
   "execution_count": 47,
   "metadata": {
    "id": "c0mYE44ueOD0"
   },
   "outputs": [
    {
     "name": "stdout",
     "output_type": "stream",
     "text": [
      "89 or 1.83 percent Woman out of 4863 who actually repay are accepted\n",
      "294 or 5.87 percent Men out of 5009 who actually repay are accepted\n"
     ]
    }
   ],
   "source": [
    "res = calc_share_of_gender(.8, 0, 1)\n",
    "print(res[0], 'or', res[1], 'percent Woman out of', res[2], 'who actually repay are accepted')\n",
    "res = calc_share_of_gender(.8, 1, 1)\n",
    "print(res[0], 'or', res[1], 'percent Men out of', res[2], 'who actually repay are accepted')"
   ]
  }
 ],
 "metadata": {
  "colab": {
   "provenance": [
    {
     "file_id": "1Xr2IEOIpyr_vkWWapsZtLHF3QLwMn6T6",
     "timestamp": 1677591141896
    }
   ]
  },
  "kernelspec": {
   "display_name": "Python 3 (ipykernel)",
   "language": "python",
   "name": "python3"
  },
  "language_info": {
   "codemirror_mode": {
    "name": "ipython",
    "version": 3
   },
   "file_extension": ".py",
   "mimetype": "text/x-python",
   "name": "python",
   "nbconvert_exporter": "python",
   "pygments_lexer": "ipython3",
   "version": "3.9.7"
  }
 },
 "nbformat": 4,
 "nbformat_minor": 1
}
