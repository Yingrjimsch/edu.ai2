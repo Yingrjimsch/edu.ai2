{
 "cells": [
  {
   "cell_type": "markdown",
   "metadata": {
    "id": "gxWkrO1Nr9XD"
   },
   "source": [
    "# Decision problem for a bank"
   ]
  },
  {
   "cell_type": "markdown",
   "metadata": {
    "id": "G7RksxpBtb2Z"
   },
   "source": [
    "## Brief description\n",
    "\n",
    "Banks give out loans to applicants if they believe that the applicant is capable of repaying the loan\n",
    "that they applied for. Imagine that a bank only knows the probability with which someone can repay the loan. We’ll now see how high this probability has to be to warrant the bank giving an applicant a loan if we assume that the bank wants to maximize its profit.\n",
    "\n",
    "We will assume that every applicant asks for a 1-year loan of size H. The bank offers all these applicants an interest rate of z (e.g., a 2% interest rate means z = 0.02). For the following, we will assume that the bank knows the exact repayment probability p for each applicant, i.e., the probability with which they repay their loan. In real cases, a bank would use an ML model to estimate this probability, and act on these estimation - but for this exercise, we assume that the bank has a perfect prediction model. \n",
    "\n",
    "The bank faces a binary decision problem with D=1 (grant the loan) or D=0 (deny the loan). The decision-critical variable Y has the values Y=1 (applicant will pay back) and Y=0 (applicant will not pay back)."
   ]
  },
  {
   "cell_type": "markdown",
   "metadata": {
    "id": "eR0Rchx4sRII"
   },
   "source": [
    "## Questions\n",
    "Questions (a)-(c): See exercise sheet\n",
    "\n",
    "**(a)**\n",
    "\n",
    "With z=0.1\n",
    "\n",
    "| |Y=0 | Y=1 |\n",
    "| - | - | - | \n",
    "| D=0 | 0 | 0 |\n",
    "| D=1 | -H | H*0.1 |\n",
    "\n",
    "\n",
    "With z\n",
    "\n",
    "| |Y=0 | Y=1 |\n",
    "| - | - | - | \n",
    "| D=0 | 0 | 0 |\n",
    "| D=1 | -H | H*z |\n",
    "\n",
    "**(b)**\n",
    "\n",
    "Bank does not want to lose money E(U)>=0\n",
    "\n",
    "- E(U) = (1-p) * u10 + p * u11 --> D=1\n",
    "- =(1-p) * (-H) + p * H * z --> D=1\n",
    "- = -H + pH + pHz\n",
    "- -pH - pHz = -H\n",
    "- p * (-H - Hz) = -H\n",
    "- p = -H / (-H - Hz)\n",
    "- p = -1 / (-1 - z)\n",
    "- p = 1 / (1 + z)\n",
    "\n",
    "\n",
    "**The rule does not depend on H. In our example 0.91**\n",
    "\n",
    "**(c)**\n",
    "\n",
    "p >= 1 / (1 + z) or in our case p >= 0.91 results in D=1\n",
    "This rule does not depend on the specifics of the population\n",
    "\n",
    "The other questions require a dataset. This dataset is saved in the same folder as this notebook. You can access it with `pandas.read_csv()`.\n",
    "\n",
    "**(d)\tAssume that you are given the population listed in the resources. What is the expected total profit of the bank if they apply the rule from (c)?**"
   ]
  },
  {
   "cell_type": "code",
   "execution_count": 3,
   "metadata": {
    "executionInfo": {
     "elapsed": 1341,
     "status": "ok",
     "timestamp": 1677760484012,
     "user": {
      "displayName": "Corinna Hertweck",
      "userId": "07442924978275284010"
     },
     "user_tz": -60
    },
    "id": "QDgPLCZKtrpo"
   },
   "outputs": [],
   "source": [
    "import pandas as pd"
   ]
  },
  {
   "cell_type": "markdown",
   "metadata": {
    "id": "H7bvUZ2cyqWo"
   },
   "source": [
    "Let us first import the dataset. For this, you can click on the folder icon on the left and then select the icon to upload a dataset. Upload the dataset 'loan_applicants.csv', so that your Google Colab Notebook has access to it."
   ]
  },
  {
   "cell_type": "markdown",
   "metadata": {
    "id": "fojF2HfqdFHE"
   },
   "source": [
    "![Google Colab screenshot.PNG](data:image/png;base64,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)"
   ]
  },
  {
   "cell_type": "markdown",
   "metadata": {
    "id": "avUWgfIldFb0"
   },
   "source": [
    "Then use pandas to read the csv file."
   ]
  },
  {
   "cell_type": "code",
   "execution_count": 4,
   "metadata": {
    "colab": {
     "base_uri": "https://localhost:8080/",
     "height": 423
    },
    "executionInfo": {
     "elapsed": 838,
     "status": "ok",
     "timestamp": 1677760521270,
     "user": {
      "displayName": "Corinna Hertweck",
      "userId": "07442924978275284010"
     },
     "user_tz": -60
    },
    "id": "KeGFU0O6tto_",
    "outputId": "9f49eeac-68b7-46ff-9cbe-2a4082ece487"
   },
   "outputs": [
    {
     "data": {
      "text/html": [
       "<div>\n",
       "<style scoped>\n",
       "    .dataframe tbody tr th:only-of-type {\n",
       "        vertical-align: middle;\n",
       "    }\n",
       "\n",
       "    .dataframe tbody tr th {\n",
       "        vertical-align: top;\n",
       "    }\n",
       "\n",
       "    .dataframe thead th {\n",
       "        text-align: right;\n",
       "    }\n",
       "</style>\n",
       "<table border=\"1\" class=\"dataframe\">\n",
       "  <thead>\n",
       "    <tr style=\"text-align: right;\">\n",
       "      <th></th>\n",
       "      <th>p</th>\n",
       "      <th>H</th>\n",
       "      <th>z</th>\n",
       "    </tr>\n",
       "  </thead>\n",
       "  <tbody>\n",
       "    <tr>\n",
       "      <th>0</th>\n",
       "      <td>0.374540</td>\n",
       "      <td>1</td>\n",
       "      <td>0.1</td>\n",
       "    </tr>\n",
       "    <tr>\n",
       "      <th>1</th>\n",
       "      <td>0.950714</td>\n",
       "      <td>1</td>\n",
       "      <td>0.1</td>\n",
       "    </tr>\n",
       "    <tr>\n",
       "      <th>2</th>\n",
       "      <td>0.731994</td>\n",
       "      <td>1</td>\n",
       "      <td>0.1</td>\n",
       "    </tr>\n",
       "    <tr>\n",
       "      <th>3</th>\n",
       "      <td>0.598658</td>\n",
       "      <td>1</td>\n",
       "      <td>0.1</td>\n",
       "    </tr>\n",
       "    <tr>\n",
       "      <th>4</th>\n",
       "      <td>0.156019</td>\n",
       "      <td>1</td>\n",
       "      <td>0.1</td>\n",
       "    </tr>\n",
       "    <tr>\n",
       "      <th>...</th>\n",
       "      <td>...</td>\n",
       "      <td>...</td>\n",
       "      <td>...</td>\n",
       "    </tr>\n",
       "    <tr>\n",
       "      <th>9995</th>\n",
       "      <td>0.857656</td>\n",
       "      <td>1</td>\n",
       "      <td>0.1</td>\n",
       "    </tr>\n",
       "    <tr>\n",
       "      <th>9996</th>\n",
       "      <td>0.897509</td>\n",
       "      <td>1</td>\n",
       "      <td>0.1</td>\n",
       "    </tr>\n",
       "    <tr>\n",
       "      <th>9997</th>\n",
       "      <td>0.946708</td>\n",
       "      <td>1</td>\n",
       "      <td>0.1</td>\n",
       "    </tr>\n",
       "    <tr>\n",
       "      <th>9998</th>\n",
       "      <td>0.397488</td>\n",
       "      <td>1</td>\n",
       "      <td>0.1</td>\n",
       "    </tr>\n",
       "    <tr>\n",
       "      <th>9999</th>\n",
       "      <td>0.217140</td>\n",
       "      <td>1</td>\n",
       "      <td>0.1</td>\n",
       "    </tr>\n",
       "  </tbody>\n",
       "</table>\n",
       "<p>10000 rows × 3 columns</p>\n",
       "</div>"
      ],
      "text/plain": [
       "             p  H    z\n",
       "0     0.374540  1  0.1\n",
       "1     0.950714  1  0.1\n",
       "2     0.731994  1  0.1\n",
       "3     0.598658  1  0.1\n",
       "4     0.156019  1  0.1\n",
       "...        ... ..  ...\n",
       "9995  0.857656  1  0.1\n",
       "9996  0.897509  1  0.1\n",
       "9997  0.946708  1  0.1\n",
       "9998  0.397488  1  0.1\n",
       "9999  0.217140  1  0.1\n",
       "\n",
       "[10000 rows x 3 columns]"
      ]
     },
     "execution_count": 4,
     "metadata": {},
     "output_type": "execute_result"
    }
   ],
   "source": [
    "loan_applicants = pd.read_csv('loan_applicants.csv')\n",
    "loan_applicants"
   ]
  },
  {
   "cell_type": "markdown",
   "metadata": {
    "id": "95uInlr9cCi1"
   },
   "source": [
    "Now it's time to add your own code."
   ]
  },
  {
   "cell_type": "code",
   "execution_count": 15,
   "metadata": {
    "id": "VWUDSRK-cEqs"
   },
   "outputs": [
    {
     "name": "stdout",
     "output_type": "stream",
     "text": [
      "p: 0.9090909090909091\n",
      "Number of accepted applicants: 884\n",
      "Total Profit: 43.587058396754784\n"
     ]
    },
    {
     "name": "stderr",
     "output_type": "stream",
     "text": [
      "C:\\Users\\axgno01\\AppData\\Local\\Temp\\ipykernel_24384\\1833768935.py:15: SettingWithCopyWarning: \n",
      "A value is trying to be set on a copy of a slice from a DataFrame.\n",
      "Try using .loc[row_indexer,col_indexer] = value instead\n",
      "\n",
      "See the caveats in the documentation: https://pandas.pydata.org/pandas-docs/stable/user_guide/indexing.html#returning-a-view-versus-a-copy\n",
      "  loan_applications_over_threshold['E'] = calc_expected_val(loan_applications_over_threshold['H'], loan_applications_over_threshold['p'],\n"
     ]
    }
   ],
   "source": [
    "def calc_p(z):\n",
    "    return 1 / (1+z)\n",
    "H=1\n",
    "z = 0.1\n",
    "p = calc_p(z)\n",
    "print('p:',p)\n",
    "\n",
    "def calc_expected_val(H, p, z):\n",
    "    return (1 - p) * -H + p * z * H\n",
    "\n",
    "loan_applications_over_threshold = loan_applicants[loan_applicants['p'] >= p]\n",
    "applicant_number = len(loan_applications_over_threshold)\n",
    "print('Number of accepted applicants:', applicant_number)\n",
    "\n",
    "loan_applications_over_threshold['E'] = calc_expected_val(loan_applications_over_threshold['H'], \n",
    "                                                          loan_applications_over_threshold['p'], \n",
    "                                                          loan_applications_over_threshold['z'])\n",
    "\n",
    "total_profit = loan_applications_over_threshold['E'].sum()\n",
    "print('Total Profit:', total_profit)"
   ]
  },
  {
   "cell_type": "markdown",
   "metadata": {
    "id": "drCgLxNGt9rt"
   },
   "source": [
    "**(e)\tAssume that you are given the population listed in the resources. What is the expected profit of the bank per applicant (in percent) if they apply the rule from (c)?**"
   ]
  },
  {
   "cell_type": "code",
   "execution_count": 16,
   "metadata": {
    "id": "_GJcoi72cJEE"
   },
   "outputs": [
    {
     "name": "stdout",
     "output_type": "stream",
     "text": [
      "Profit per Person in %: 4.93066271456502\n"
     ]
    },
    {
     "data": {
      "text/html": [
       "<div>\n",
       "<style scoped>\n",
       "    .dataframe tbody tr th:only-of-type {\n",
       "        vertical-align: middle;\n",
       "    }\n",
       "\n",
       "    .dataframe tbody tr th {\n",
       "        vertical-align: top;\n",
       "    }\n",
       "\n",
       "    .dataframe thead th {\n",
       "        text-align: right;\n",
       "    }\n",
       "</style>\n",
       "<table border=\"1\" class=\"dataframe\">\n",
       "  <thead>\n",
       "    <tr style=\"text-align: right;\">\n",
       "      <th></th>\n",
       "      <th>p</th>\n",
       "      <th>H</th>\n",
       "      <th>z</th>\n",
       "      <th>E</th>\n",
       "    </tr>\n",
       "  </thead>\n",
       "  <tbody>\n",
       "    <tr>\n",
       "      <th>1</th>\n",
       "      <td>0.950714</td>\n",
       "      <td>1</td>\n",
       "      <td>0.1</td>\n",
       "      <td>0.045786</td>\n",
       "    </tr>\n",
       "    <tr>\n",
       "      <th>11</th>\n",
       "      <td>0.969910</td>\n",
       "      <td>1</td>\n",
       "      <td>0.1</td>\n",
       "      <td>0.066901</td>\n",
       "    </tr>\n",
       "    <tr>\n",
       "      <th>33</th>\n",
       "      <td>0.948886</td>\n",
       "      <td>1</td>\n",
       "      <td>0.1</td>\n",
       "      <td>0.043774</td>\n",
       "    </tr>\n",
       "    <tr>\n",
       "      <th>34</th>\n",
       "      <td>0.965632</td>\n",
       "      <td>1</td>\n",
       "      <td>0.1</td>\n",
       "      <td>0.062195</td>\n",
       "    </tr>\n",
       "    <tr>\n",
       "      <th>43</th>\n",
       "      <td>0.909320</td>\n",
       "      <td>1</td>\n",
       "      <td>0.1</td>\n",
       "      <td>0.000252</td>\n",
       "    </tr>\n",
       "    <tr>\n",
       "      <th>...</th>\n",
       "      <td>...</td>\n",
       "      <td>...</td>\n",
       "      <td>...</td>\n",
       "      <td>...</td>\n",
       "    </tr>\n",
       "    <tr>\n",
       "      <th>9971</th>\n",
       "      <td>0.976080</td>\n",
       "      <td>1</td>\n",
       "      <td>0.1</td>\n",
       "      <td>0.073688</td>\n",
       "    </tr>\n",
       "    <tr>\n",
       "      <th>9972</th>\n",
       "      <td>0.956992</td>\n",
       "      <td>1</td>\n",
       "      <td>0.1</td>\n",
       "      <td>0.052691</td>\n",
       "    </tr>\n",
       "    <tr>\n",
       "      <th>9978</th>\n",
       "      <td>0.950612</td>\n",
       "      <td>1</td>\n",
       "      <td>0.1</td>\n",
       "      <td>0.045673</td>\n",
       "    </tr>\n",
       "    <tr>\n",
       "      <th>9983</th>\n",
       "      <td>0.909824</td>\n",
       "      <td>1</td>\n",
       "      <td>0.1</td>\n",
       "      <td>0.000806</td>\n",
       "    </tr>\n",
       "    <tr>\n",
       "      <th>9997</th>\n",
       "      <td>0.946708</td>\n",
       "      <td>1</td>\n",
       "      <td>0.1</td>\n",
       "      <td>0.041379</td>\n",
       "    </tr>\n",
       "  </tbody>\n",
       "</table>\n",
       "<p>884 rows × 4 columns</p>\n",
       "</div>"
      ],
      "text/plain": [
       "             p  H    z         E\n",
       "1     0.950714  1  0.1  0.045786\n",
       "11    0.969910  1  0.1  0.066901\n",
       "33    0.948886  1  0.1  0.043774\n",
       "34    0.965632  1  0.1  0.062195\n",
       "43    0.909320  1  0.1  0.000252\n",
       "...        ... ..  ...       ...\n",
       "9971  0.976080  1  0.1  0.073688\n",
       "9972  0.956992  1  0.1  0.052691\n",
       "9978  0.950612  1  0.1  0.045673\n",
       "9983  0.909824  1  0.1  0.000806\n",
       "9997  0.946708  1  0.1  0.041379\n",
       "\n",
       "[884 rows x 4 columns]"
      ]
     },
     "execution_count": 16,
     "metadata": {},
     "output_type": "execute_result"
    }
   ],
   "source": [
    "def calc_mean_profit_per_person(total, nr, H):\n",
    "    return (total / nr) / H * 100\n",
    "\n",
    "print('Profit per Person in %:', calc_mean_profit_per_person(total_profit, applicant_number, H))\n",
    "loan_applications_over_threshold"
   ]
  },
  {
   "cell_type": "markdown",
   "metadata": {
    "id": "RApSeWyWuCfA"
   },
   "source": [
    "**(f)\tAssume now that the bank wants to increase its expected profit per applicant. It should be 10% more than under the rule that maximizes the total profit. What rule does the bank then have to apply?**"
   ]
  },
  {
   "cell_type": "code",
   "execution_count": 21,
   "metadata": {
    "id": "-ApWOFnUcLQF"
   },
   "outputs": [
    {
     "name": "stdout",
     "output_type": "stream",
     "text": [
      "Profit in percentage with p: 0.0 is -45.64244865472704\n",
      "Profit in percentage with p: 0.01 is -45.12679559621758\n",
      "Profit in percentage with p: 0.02 is -44.572977095289865\n",
      "Profit in percentage with p: 0.03 is -44.078799836524944\n",
      "Profit in percentage with p: 0.04 is -43.482668434290105\n",
      "Profit in percentage with p: 0.05 is -42.96710167767995\n",
      "Profit in percentage with p: 0.06 is -42.347674888475204\n",
      "Profit in percentage with p: 0.07 is -41.76055843336027\n",
      "Profit in percentage with p: 0.08 is -41.13344209605846\n",
      "Profit in percentage with p: 0.09 is -40.50496563239311\n",
      "Profit in percentage with p: 0.1 is -40.03484104000884\n",
      "Profit in percentage with p: 0.11 is -39.47767697908272\n",
      "Profit in percentage with p: 0.12 is -38.942903489661276\n",
      "Profit in percentage with p: 0.13 is -38.34211592831752\n",
      "Profit in percentage with p: 0.14 is -37.76695253562259\n",
      "Profit in percentage with p: 0.15 is -37.285494836514275\n",
      "Profit in percentage with p: 0.16 is -36.78375107742819\n",
      "Profit in percentage with p: 0.17 is -36.13951489923428\n",
      "Profit in percentage with p: 0.18 is -35.6144908166063\n",
      "Profit in percentage with p: 0.19 is -35.07365829758762\n",
      "Profit in percentage with p: 0.2 is -34.50580472288608\n",
      "Profit in percentage with p: 0.21 is -33.95917254734563\n",
      "Profit in percentage with p: 0.22 is -33.43400943297815\n",
      "Profit in percentage with p: 0.23 is -32.899310877129835\n",
      "Profit in percentage with p: 0.24 is -32.364759487466635\n",
      "Profit in percentage with p: 0.25 is -31.753388688841\n",
      "Profit in percentage with p: 0.26 is -31.157247327424315\n",
      "Profit in percentage with p: 0.27 is -30.626752974583248\n",
      "Profit in percentage with p: 0.28 is -30.05667693655141\n",
      "Profit in percentage with p: 0.29 is -29.458958272155115\n",
      "Profit in percentage with p: 0.3 is -28.98250053450005\n",
      "Profit in percentage with p: 0.31 is -28.451949083718404\n",
      "Profit in percentage with p: 0.32 is -27.932723075258547\n",
      "Profit in percentage with p: 0.33 is -27.370049867892355\n",
      "Profit in percentage with p: 0.34 is -26.813312427042547\n",
      "Profit in percentage with p: 0.35000000000000003 is -26.238763571853692\n",
      "Profit in percentage with p: 0.36 is -25.66931662939536\n",
      "Profit in percentage with p: 0.37 is -25.14986885463723\n",
      "Profit in percentage with p: 0.38 is -24.60900769356033\n",
      "Profit in percentage with p: 0.39 is -24.096089772900392\n",
      "Profit in percentage with p: 0.4 is -23.490290133857545\n",
      "Profit in percentage with p: 0.41000000000000003 is -22.89903871709492\n",
      "Profit in percentage with p: 0.42 is -22.24388171561331\n",
      "Profit in percentage with p: 0.43 is -21.72608478701716\n",
      "Profit in percentage with p: 0.44 is -21.180366952557723\n",
      "Profit in percentage with p: 0.45 is -20.60704689380804\n",
      "Profit in percentage with p: 0.46 is -20.010135586844605\n",
      "Profit in percentage with p: 0.47000000000000003 is -19.489847911263812\n",
      "Profit in percentage with p: 0.48 is -19.048766661676837\n",
      "Profit in percentage with p: 0.49 is -18.42763603397714\n",
      "Profit in percentage with p: 0.5 is -17.88223805545538\n",
      "Profit in percentage with p: 0.51 is -17.22911289629073\n",
      "Profit in percentage with p: 0.52 is -16.583555317271163\n",
      "Profit in percentage with p: 0.53 is -16.12082106000081\n",
      "Profit in percentage with p: 0.54 is -15.576919452824917\n",
      "Profit in percentage with p: 0.55 is -14.935533557665295\n",
      "Profit in percentage with p: 0.56 is -14.399581238937525\n",
      "Profit in percentage with p: 0.5700000000000001 is -13.903554467598916\n",
      "Profit in percentage with p: 0.58 is -13.285034957856567\n",
      "Profit in percentage with p: 0.59 is -12.724679720839898\n",
      "Profit in percentage with p: 0.6 is -12.130219264188165\n",
      "Profit in percentage with p: 0.61 is -11.562070790435662\n",
      "Profit in percentage with p: 0.62 is -11.033322845664758\n",
      "Profit in percentage with p: 0.63 is -10.49374086042801\n",
      "Profit in percentage with p: 0.64 is -9.948702137293795\n",
      "Profit in percentage with p: 0.65 is -9.347609320356225\n",
      "Profit in percentage with p: 0.66 is -8.813325581527298\n",
      "Profit in percentage with p: 0.67 is -8.197789503686538\n",
      "Profit in percentage with p: 0.68 is -7.559723190721726\n",
      "Profit in percentage with p: 0.6900000000000001 is -7.07066434990041\n",
      "Profit in percentage with p: 0.7000000000000001 is -6.45247246018716\n",
      "Profit in percentage with p: 0.71 is -5.880028669070557\n",
      "Profit in percentage with p: 0.72 is -5.3597571957863615\n",
      "Profit in percentage with p: 0.73 is -4.804242568821625\n",
      "Profit in percentage with p: 0.74 is -4.236551127568102\n",
      "Profit in percentage with p: 0.75 is -3.738744838117828\n",
      "Profit in percentage with p: 0.76 is -3.249642120033358\n",
      "Profit in percentage with p: 0.77 is -2.6648981845795685\n",
      "Profit in percentage with p: 0.78 is -2.188986750793304\n",
      "Profit in percentage with p: 0.79 is -1.7007215799511783\n",
      "Profit in percentage with p: 0.8 is -1.1978516699359916\n",
      "Profit in percentage with p: 0.81 is -0.5110472501343593\n",
      "Profit in percentage with p: 0.8200000000000001 is 0.06152165403000742\n",
      "Profit in percentage with p: 0.8300000000000001 is 0.7096671205481778\n",
      "Profit in percentage with p: 0.84 is 1.2095940521542554\n",
      "Profit in percentage with p: 0.85 is 1.7235611437097138\n",
      "Profit in percentage with p: 0.86 is 2.253825933114002\n",
      "Profit in percentage with p: 0.87 is 2.8139072412593933\n",
      "Profit in percentage with p: 0.88 is 3.446086765055587\n",
      "Profit in percentage with p: 0.89 is 3.9046656842781737\n",
      "Profit in percentage with p: 0.9 is 4.498569915862962\n",
      "Profit in percentage with p: 0.91 is 5.032220199136512\n",
      "Profit in percentage with p: 0.92 is 5.4804285381425\n",
      "Profit in percentage with p: 0.93 is 5.924775846123662\n",
      "Profit in percentage with p: 0.9400000000000001 is 6.518547795391965\n",
      "Profit in percentage with p: 0.9500000000000001 is 7.143709841623931\n",
      "Profit in percentage with p: 0.96 is 7.693653494773212\n",
      "Profit in percentage with p: 0.97 is 8.34123429274182\n",
      "Profit in percentage with p: 0.98 is 8.873753339498423\n",
      "Profit in percentage with p: 0.99 is 9.448521920592828\n"
     ]
    }
   ],
   "source": [
    "# 10% more profit is p * 1.1 =~ 0.99\n",
    "import numpy as np\n",
    "for p_i in np.arange(0.0, 1.0, 0.01):\n",
    "    laot_p_i = loan_applicants[loan_applicants['p'] >= p_i]\n",
    "    profit_p_i = calc_mean_profit_per_person(calc_expected_val(laot_p_i['H'], laot_p_i['p'], \n",
    "                                                               laot_p_i['z']).sum(), \n",
    "                                                               len(laot_p_i), 1)\n",
    "    print('Profit in percentage with p:', p_i, 'is', profit_p_i)"
   ]
  },
  {
   "cell_type": "code",
   "execution_count": null,
   "metadata": {},
   "outputs": [],
   "source": []
  }
 ],
 "metadata": {
  "colab": {
   "provenance": []
  },
  "kernelspec": {
   "display_name": "Python 3 (ipykernel)",
   "language": "python",
   "name": "python3"
  },
  "language_info": {
   "codemirror_mode": {
    "name": "ipython",
    "version": 3
   },
   "file_extension": ".py",
   "mimetype": "text/x-python",
   "name": "python",
   "nbconvert_exporter": "python",
   "pygments_lexer": "ipython3",
   "version": "3.9.7"
  }
 },
 "nbformat": 4,
 "nbformat_minor": 1
}
