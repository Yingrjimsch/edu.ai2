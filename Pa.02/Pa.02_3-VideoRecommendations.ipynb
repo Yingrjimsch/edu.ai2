{
 "cells": [
  {
   "cell_type": "markdown",
   "id": "523dddd0",
   "metadata": {},
   "source": [
    "## Exercise 3 Video recommendations"
   ]
  },
  {
   "cell_type": "markdown",
   "id": "75659cc9",
   "metadata": {},
   "source": [
    "**(a)**\n",
    "\n",
    "- D = 1 is watching a movie\n",
    "- D = 0 is reading a book\n",
    "- Y = 1 is enjoying the media\n",
    "- Y = 0 is not enjoying it"
   ]
  },
  {
   "cell_type": "markdown",
   "id": "6c16d281",
   "metadata": {},
   "source": [
    "| |Y=0 | Y=1 |\n",
    "| - | - | - | \n",
    "| D=0 | 0.3 | 0.3 |\n",
    "| D=1 | -1 | 1 |"
   ]
  },
  {
   "cell_type": "markdown",
   "id": "c71f9a5d",
   "metadata": {},
   "source": [
    "**(b)**\n",
    "\n",
    "$$E(U|D=0) = (1 - p) * 0.3 + p * 0.3$$\n",
    "\n",
    "$$= 0.3 - 0.3p + 0.3p$$\n",
    "\n",
    "$$= 0.3$$\n",
    "\n",
    "\n",
    "$$E(U|D=1) = (1 - p) * (-1) + p * 1$$\n",
    "\n",
    "$$= -1 + p + p$$\n",
    "\n",
    "$$= 2p - 1$$\n",
    "\n",
    "\n",
    "Which means\n",
    "$$ E(U|D=1) > E(U|D=0)$$\n",
    "\n",
    "$$2p - 1 > 0.3$$\n",
    "\n",
    "$$2p > 1.3$$\n",
    "\n",
    "$$p > 0.65$$"
   ]
  },
  {
   "cell_type": "markdown",
   "id": "dc854074",
   "metadata": {},
   "source": [
    "**(c)**\n",
    "\n",
    "The average utility for reading a book is $0.3$\n",
    "\n",
    "The average utility for watching a movie is\n",
    "$$P = \\{0, 0.1, 0.2,...,0.9,1\\}$$\n",
    "\n",
    "\n",
    "$$\\frac{\\sum_{p\\epsilon P}^{} 2p - 1}{11}$$\n",
    "\n",
    "\n",
    "$$=0.0$$"
   ]
  },
  {
   "cell_type": "code",
   "execution_count": 43,
   "id": "e794f649",
   "metadata": {},
   "outputs": [
    {
     "name": "stdout",
     "output_type": "stream",
     "text": [
      "Average Utility per night 0.4454545454545455\n"
     ]
    }
   ],
   "source": [
    "import numpy as np\n",
    "\n",
    "utility_book = np.repeat(.3, 7)\n",
    "utility_movie = np.linspace(.7, 1, 4) * 2 - 1\n",
    "avg = (utility_book.sum() + utility_movie.sum()) / 11\n",
    "print('Average Utility per night', avg)"
   ]
  },
  {
   "cell_type": "markdown",
   "id": "c1fdc4d4",
   "metadata": {},
   "source": [
    "**(d)**"
   ]
  },
  {
   "cell_type": "code",
   "execution_count": 45,
   "id": "6fdca6a9",
   "metadata": {},
   "outputs": [
    {
     "name": "stdout",
     "output_type": "stream",
     "text": [
      "Biased Average Utility per night: 0.5\n",
      "1.8\n",
      "True Average Utility per night with bias: 0.43636363636363634\n",
      "Difference between bias and unbiased: 0.00909090909090915\n"
     ]
    }
   ],
   "source": [
    "import numpy as np\n",
    "\n",
    "utility_book = np.repeat(.3, 6)\n",
    "p_movies = np.arange(.7, 1.1, .1)\n",
    "p_movies[3] = .95\n",
    "p_movies[4] = 1\n",
    "utility_movie = p_movies * 2 - 1\n",
    "print('Biased Average Utility per night:', np.round((utility_book.sum() + utility_movie.sum()) / 11, 2))\n",
    "\n",
    "\n",
    "utility_book = np.repeat(.3, 6)\n",
    "print(utility_book.sum())\n",
    "utility_movie = np.linspace(.6, 1., 5) * 2 - 1\n",
    "avg_biased = (utility_book.sum() + utility_movie.sum()) / 11\n",
    "print('True Average Utility per night with bias:', avg_biased)\n",
    "\n",
    "print('Difference between bias and unbiased:', avg - avg_biased)\n"
   ]
  },
  {
   "cell_type": "markdown",
   "id": "bbfa3f80",
   "metadata": {},
   "source": [
    "This occures because at true p = 0.6 with biased p = 0.7 a movie would be watched which has a worse utility than 0.3 (0.6 * 2 - 1)"
   ]
  },
  {
   "cell_type": "code",
   "execution_count": null,
   "id": "06a06f7c",
   "metadata": {},
   "outputs": [],
   "source": []
  }
 ],
 "metadata": {
  "kernelspec": {
   "display_name": "Python 3 (ipykernel)",
   "language": "python",
   "name": "python3"
  },
  "language_info": {
   "codemirror_mode": {
    "name": "ipython",
    "version": 3
   },
   "file_extension": ".py",
   "mimetype": "text/x-python",
   "name": "python",
   "nbconvert_exporter": "python",
   "pygments_lexer": "ipython3",
   "version": "3.9.7"
  }
 },
 "nbformat": 4,
 "nbformat_minor": 5
}
